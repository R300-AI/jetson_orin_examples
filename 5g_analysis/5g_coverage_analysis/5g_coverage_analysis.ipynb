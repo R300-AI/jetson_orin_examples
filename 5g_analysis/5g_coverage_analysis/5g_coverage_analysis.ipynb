{
 "cells": [
  {
   "cell_type": "markdown",
   "metadata": {},
   "source": [
    "# 1. Introduction\n",
    "An exploratory data analysis will be conducted on a database containing information about 5G networks. This database includes attributes such as 'operator,' 'city_name,' 'deployment_type,' 'status,' 'latitude,' and 'longitude.'\n",
    "\n",
    "Within this analysis, the following stages will be carried out: the importation of necessary libraries, data loading, data exploration, data cleaning, and the creation of visualizations. These phases are essential for effectively understanding, preparing, and presenting the data. As we progress, we will highlight important patterns, trends, and conclusions related to 5G networks."
   ]
  },
  {
   "cell_type": "markdown",
   "metadata": {},
   "source": [
    "# 2. Importing Libraries"
   ]
  },
  {
   "cell_type": "code",
   "execution_count": 2,
   "metadata": {
    "vscode": {
     "languageId": "bat"
    }
   },
   "outputs": [
    {
     "name": "stdout",
     "output_type": "stream",
     "text": [
      "Note: you may need to restart the kernel to use updated packages.\n"
     ]
    }
   ],
   "source": [
    "pip install pandas numpy matplotlib seaborn -q"
   ]
  },
  {
   "cell_type": "code",
   "execution_count": 3,
   "metadata": {},
   "outputs": [],
   "source": [
    "import pandas as pd\n",
    "import numpy as np\n",
    "import matplotlib.pyplot as plt\n",
    "import seaborn as sns"
   ]
  },
  {
   "cell_type": "markdown",
   "metadata": {},
   "source": [
    "# 3. Data Loading"
   ]
  },
  {
   "cell_type": "code",
   "execution_count": 17,
   "metadata": {},
   "outputs": [],
   "source": [
    "df = pd.read_csv('/Users/lipinze/code/itri462890/jetson_orin_examples/5g_analysis/dataset/5g_coverage.csv')"
   ]
  },
  {
   "cell_type": "markdown",
   "metadata": {},
   "source": [
    "# 4. Initial Data Exploration\n",
    "We will examine the DataFrame to gain a better understanding."
   ]
  },
  {
   "cell_type": "code",
   "execution_count": 8,
   "metadata": {},
   "outputs": [
    {
     "data": {
      "text/html": [
       "<div>\n",
       "<style scoped>\n",
       "    .dataframe tbody tr th:only-of-type {\n",
       "        vertical-align: middle;\n",
       "    }\n",
       "\n",
       "    .dataframe tbody tr th {\n",
       "        vertical-align: top;\n",
       "    }\n",
       "\n",
       "    .dataframe thead th {\n",
       "        text-align: right;\n",
       "    }\n",
       "</style>\n",
       "<table border=\"1\" class=\"dataframe\">\n",
       "  <thead>\n",
       "    <tr style=\"text-align: right;\">\n",
       "      <th></th>\n",
       "      <th>operator</th>\n",
       "      <th>city_name</th>\n",
       "      <th>deployment_type</th>\n",
       "      <th>status</th>\n",
       "      <th>latitude</th>\n",
       "      <th>longitude</th>\n",
       "    </tr>\n",
       "  </thead>\n",
       "  <tbody>\n",
       "    <tr>\n",
       "      <th>0</th>\n",
       "      <td>Ooredoo</td>\n",
       "      <td>Abdullah al-Salem</td>\n",
       "      <td>5G NR</td>\n",
       "      <td>Commercial Availability</td>\n",
       "      <td>29.35186</td>\n",
       "      <td>47.98369</td>\n",
       "    </tr>\n",
       "    <tr>\n",
       "      <th>1</th>\n",
       "      <td>Optus</td>\n",
       "      <td>Canberra</td>\n",
       "      <td>5G NR</td>\n",
       "      <td>Commercial Availability</td>\n",
       "      <td>-35.28200</td>\n",
       "      <td>149.12868</td>\n",
       "    </tr>\n",
       "    <tr>\n",
       "      <th>2</th>\n",
       "      <td>Optus</td>\n",
       "      <td>Sydney</td>\n",
       "      <td>5G NR</td>\n",
       "      <td>Commercial Availability</td>\n",
       "      <td>-33.86748</td>\n",
       "      <td>151.20698</td>\n",
       "    </tr>\n",
       "    <tr>\n",
       "      <th>3</th>\n",
       "      <td>AT&amp;T Mobility</td>\n",
       "      <td>Jacksonville, FL</td>\n",
       "      <td>5G NR</td>\n",
       "      <td>Commercial Availability</td>\n",
       "      <td>30.33218</td>\n",
       "      <td>-81.65565</td>\n",
       "    </tr>\n",
       "    <tr>\n",
       "      <th>4</th>\n",
       "      <td>AT&amp;T Mobility</td>\n",
       "      <td>Atlanta, GA</td>\n",
       "      <td>5G NR</td>\n",
       "      <td>Commercial Availability</td>\n",
       "      <td>33.74900</td>\n",
       "      <td>-84.38798</td>\n",
       "    </tr>\n",
       "    <tr>\n",
       "      <th>5</th>\n",
       "      <td>AT&amp;T Mobility</td>\n",
       "      <td>Indianapolis, IN</td>\n",
       "      <td>5G NR</td>\n",
       "      <td>Commercial Availability</td>\n",
       "      <td>39.76840</td>\n",
       "      <td>-86.15807</td>\n",
       "    </tr>\n",
       "    <tr>\n",
       "      <th>6</th>\n",
       "      <td>AT&amp;T Mobility</td>\n",
       "      <td>Louisville, KY</td>\n",
       "      <td>5G NR</td>\n",
       "      <td>Commercial Availability</td>\n",
       "      <td>38.25266</td>\n",
       "      <td>-85.75846</td>\n",
       "    </tr>\n",
       "    <tr>\n",
       "      <th>7</th>\n",
       "      <td>AT&amp;T Mobility</td>\n",
       "      <td>Charlotte, NC</td>\n",
       "      <td>5G NR</td>\n",
       "      <td>Commercial Availability</td>\n",
       "      <td>35.22709</td>\n",
       "      <td>-80.84313</td>\n",
       "    </tr>\n",
       "    <tr>\n",
       "      <th>8</th>\n",
       "      <td>AT&amp;T Mobility</td>\n",
       "      <td>Raleigh, NC</td>\n",
       "      <td>5G NR</td>\n",
       "      <td>Commercial Availability</td>\n",
       "      <td>35.77959</td>\n",
       "      <td>-78.63818</td>\n",
       "    </tr>\n",
       "    <tr>\n",
       "      <th>9</th>\n",
       "      <td>AT&amp;T Mobility</td>\n",
       "      <td>Oklahoma City, OK</td>\n",
       "      <td>5G NR</td>\n",
       "      <td>Commercial Availability</td>\n",
       "      <td>35.46756</td>\n",
       "      <td>-97.51643</td>\n",
       "    </tr>\n",
       "  </tbody>\n",
       "</table>\n",
       "</div>"
      ],
      "text/plain": [
       "        operator          city_name deployment_type                   status  \\\n",
       "0        Ooredoo  Abdullah al-Salem           5G NR  Commercial Availability   \n",
       "1          Optus           Canberra           5G NR  Commercial Availability   \n",
       "2          Optus             Sydney           5G NR  Commercial Availability   \n",
       "3  AT&T Mobility   Jacksonville, FL           5G NR  Commercial Availability   \n",
       "4  AT&T Mobility        Atlanta, GA           5G NR  Commercial Availability   \n",
       "5  AT&T Mobility   Indianapolis, IN           5G NR  Commercial Availability   \n",
       "6  AT&T Mobility     Louisville, KY           5G NR  Commercial Availability   \n",
       "7  AT&T Mobility      Charlotte, NC           5G NR  Commercial Availability   \n",
       "8  AT&T Mobility        Raleigh, NC           5G NR  Commercial Availability   \n",
       "9  AT&T Mobility  Oklahoma City, OK           5G NR  Commercial Availability   \n",
       "\n",
       "   latitude  longitude  \n",
       "0  29.35186   47.98369  \n",
       "1 -35.28200  149.12868  \n",
       "2 -33.86748  151.20698  \n",
       "3  30.33218  -81.65565  \n",
       "4  33.74900  -84.38798  \n",
       "5  39.76840  -86.15807  \n",
       "6  38.25266  -85.75846  \n",
       "7  35.22709  -80.84313  \n",
       "8  35.77959  -78.63818  \n",
       "9  35.46756  -97.51643  "
      ]
     },
     "execution_count": 8,
     "metadata": {},
     "output_type": "execute_result"
    }
   ],
   "source": [
    "df.head(10)"
   ]
  },
  {
   "cell_type": "code",
   "execution_count": 9,
   "metadata": {},
   "outputs": [
    {
     "data": {
      "text/plain": [
       "(145629, 6)"
      ]
     },
     "execution_count": 9,
     "metadata": {},
     "output_type": "execute_result"
    }
   ],
   "source": [
    "df.shape"
   ]
  },
  {
   "cell_type": "code",
   "execution_count": 10,
   "metadata": {},
   "outputs": [
    {
     "name": "stdout",
     "output_type": "stream",
     "text": [
      "<class 'pandas.core.frame.DataFrame'>\n",
      "RangeIndex: 145629 entries, 0 to 145628\n",
      "Data columns (total 6 columns):\n",
      " #   Column           Non-Null Count   Dtype  \n",
      "---  ------           --------------   -----  \n",
      " 0   operator         145629 non-null  object \n",
      " 1   city_name        145629 non-null  object \n",
      " 2   deployment_type  145629 non-null  object \n",
      " 3   status           145629 non-null  object \n",
      " 4   latitude         145629 non-null  float64\n",
      " 5   longitude        145629 non-null  float64\n",
      "dtypes: float64(2), object(4)\n",
      "memory usage: 6.7+ MB\n"
     ]
    }
   ],
   "source": [
    "df.info()"
   ]
  },
  {
   "cell_type": "code",
   "execution_count": 11,
   "metadata": {},
   "outputs": [
    {
     "data": {
      "text/plain": [
       "operator           0\n",
       "city_name          0\n",
       "deployment_type    0\n",
       "status             0\n",
       "latitude           0\n",
       "longitude          0\n",
       "dtype: int64"
      ]
     },
     "execution_count": 11,
     "metadata": {},
     "output_type": "execute_result"
    }
   ],
   "source": [
    "df.isna().sum()"
   ]
  },
  {
   "cell_type": "code",
   "execution_count": 12,
   "metadata": {},
   "outputs": [
    {
     "name": "stdout",
     "output_type": "stream",
     "text": [
      "operator 236\n",
      "city_name 104033\n",
      "deployment_type 5\n",
      "status 3\n",
      "latitude 103427\n",
      "longitude 103843\n"
     ]
    }
   ],
   "source": [
    "for f in df.columns:\n",
    "    print(f, df[f].nunique())"
   ]
  },
  {
   "cell_type": "code",
   "execution_count": 13,
   "metadata": {},
   "outputs": [
    {
     "name": "stdout",
     "output_type": "stream",
     "text": [
      "Total duplicates: 675\n"
     ]
    }
   ],
   "source": [
    "duplicated = df.duplicated().sum()\n",
    "print('Total duplicates:', duplicated)"
   ]
  },
  {
   "cell_type": "markdown",
   "metadata": {},
   "source": [
    "# 5. Data Cleaning\n",
    "We have previously confirmed that there are no null values within the DataFrame, therefore, we will analyze what to do with the duplicates."
   ]
  },
  {
   "cell_type": "code",
   "execution_count": 15,
   "metadata": {},
   "outputs": [
    {
     "data": {
      "text/html": [
       "<div>\n",
       "<style scoped>\n",
       "    .dataframe tbody tr th:only-of-type {\n",
       "        vertical-align: middle;\n",
       "    }\n",
       "\n",
       "    .dataframe tbody tr th {\n",
       "        vertical-align: top;\n",
       "    }\n",
       "\n",
       "    .dataframe thead th {\n",
       "        text-align: right;\n",
       "    }\n",
       "</style>\n",
       "<table border=\"1\" class=\"dataframe\">\n",
       "  <thead>\n",
       "    <tr style=\"text-align: right;\">\n",
       "      <th></th>\n",
       "      <th>operator</th>\n",
       "      <th>city_name</th>\n",
       "      <th>deployment_type</th>\n",
       "      <th>status</th>\n",
       "      <th>latitude</th>\n",
       "      <th>longitude</th>\n",
       "    </tr>\n",
       "  </thead>\n",
       "  <tbody>\n",
       "    <tr>\n",
       "      <th>74</th>\n",
       "      <td>Swisscom</td>\n",
       "      <td>Lucerne</td>\n",
       "      <td>5G NR</td>\n",
       "      <td>Commercial Availability</td>\n",
       "      <td>47.05017</td>\n",
       "      <td>8.30931</td>\n",
       "    </tr>\n",
       "    <tr>\n",
       "      <th>276</th>\n",
       "      <td>China Unicom</td>\n",
       "      <td>Shanghai</td>\n",
       "      <td>5G NR</td>\n",
       "      <td>Commercial Availability</td>\n",
       "      <td>31.23042</td>\n",
       "      <td>121.47370</td>\n",
       "    </tr>\n",
       "    <tr>\n",
       "      <th>277</th>\n",
       "      <td>China Unicom</td>\n",
       "      <td>Beijing</td>\n",
       "      <td>5G NR</td>\n",
       "      <td>Commercial Availability</td>\n",
       "      <td>39.90421</td>\n",
       "      <td>116.40740</td>\n",
       "    </tr>\n",
       "    <tr>\n",
       "      <th>278</th>\n",
       "      <td>China Unicom</td>\n",
       "      <td>Hangzhou</td>\n",
       "      <td>5G NR</td>\n",
       "      <td>Commercial Availability</td>\n",
       "      <td>30.27409</td>\n",
       "      <td>120.15507</td>\n",
       "    </tr>\n",
       "    <tr>\n",
       "      <th>280</th>\n",
       "      <td>China Unicom</td>\n",
       "      <td>Shenzhen</td>\n",
       "      <td>5G NR</td>\n",
       "      <td>Commercial Availability</td>\n",
       "      <td>22.54310</td>\n",
       "      <td>114.05787</td>\n",
       "    </tr>\n",
       "    <tr>\n",
       "      <th>281</th>\n",
       "      <td>China Unicom</td>\n",
       "      <td>Guangzhou</td>\n",
       "      <td>5G NR</td>\n",
       "      <td>Commercial Availability</td>\n",
       "      <td>23.12911</td>\n",
       "      <td>113.26439</td>\n",
       "    </tr>\n",
       "    <tr>\n",
       "      <th>282</th>\n",
       "      <td>China Unicom</td>\n",
       "      <td>Nanjing</td>\n",
       "      <td>5G NR</td>\n",
       "      <td>Commercial Availability</td>\n",
       "      <td>32.06026</td>\n",
       "      <td>118.79688</td>\n",
       "    </tr>\n",
       "    <tr>\n",
       "      <th>352</th>\n",
       "      <td>China Unicom</td>\n",
       "      <td>Tianjin</td>\n",
       "      <td>5G NR</td>\n",
       "      <td>Commercial Availability</td>\n",
       "      <td>39.08416</td>\n",
       "      <td>117.20098</td>\n",
       "    </tr>\n",
       "    <tr>\n",
       "      <th>353</th>\n",
       "      <td>China Unicom</td>\n",
       "      <td>Qingdao</td>\n",
       "      <td>5G NR</td>\n",
       "      <td>Commercial Availability</td>\n",
       "      <td>36.06711</td>\n",
       "      <td>120.38261</td>\n",
       "    </tr>\n",
       "    <tr>\n",
       "      <th>354</th>\n",
       "      <td>China Unicom</td>\n",
       "      <td>Wuhan</td>\n",
       "      <td>5G NR</td>\n",
       "      <td>Commercial Availability</td>\n",
       "      <td>30.59310</td>\n",
       "      <td>114.30539</td>\n",
       "    </tr>\n",
       "  </tbody>\n",
       "</table>\n",
       "</div>"
      ],
      "text/plain": [
       "         operator  city_name deployment_type                   status  \\\n",
       "74       Swisscom    Lucerne           5G NR  Commercial Availability   \n",
       "276  China Unicom   Shanghai           5G NR  Commercial Availability   \n",
       "277  China Unicom    Beijing           5G NR  Commercial Availability   \n",
       "278  China Unicom   Hangzhou           5G NR  Commercial Availability   \n",
       "280  China Unicom   Shenzhen           5G NR  Commercial Availability   \n",
       "281  China Unicom  Guangzhou           5G NR  Commercial Availability   \n",
       "282  China Unicom    Nanjing           5G NR  Commercial Availability   \n",
       "352  China Unicom    Tianjin           5G NR  Commercial Availability   \n",
       "353  China Unicom    Qingdao           5G NR  Commercial Availability   \n",
       "354  China Unicom      Wuhan           5G NR  Commercial Availability   \n",
       "\n",
       "     latitude  longitude  \n",
       "74   47.05017    8.30931  \n",
       "276  31.23042  121.47370  \n",
       "277  39.90421  116.40740  \n",
       "278  30.27409  120.15507  \n",
       "280  22.54310  114.05787  \n",
       "281  23.12911  113.26439  \n",
       "282  32.06026  118.79688  \n",
       "352  39.08416  117.20098  \n",
       "353  36.06711  120.38261  \n",
       "354  30.59310  114.30539  "
      ]
     },
     "execution_count": 15,
     "metadata": {},
     "output_type": "execute_result"
    }
   ],
   "source": [
    "duplicates = df[df.duplicated(keep=False)]\n",
    "duplicates.head(10)"
   ]
  },
  {
   "cell_type": "markdown",
   "metadata": {},
   "source": [
    "In this particular case, research has been conducted, and the conclusion has been reached that the duplicates may be due to the deployment of multiple 5G base stations and networks to meet the demand in some larger and densely populated cities. That is why the duplicates will be retained in the database."
   ]
  },
  {
   "cell_type": "code",
   "execution_count": null,
   "metadata": {},
   "outputs": [],
   "source": [
    "df['deployment_type'].value_counts()"
   ]
  },
  {
   "cell_type": "markdown",
   "metadata": {},
   "source": [
    "After conducting research, it has been concluded that all these attributes mean the same."
   ]
  },
  {
   "cell_type": "code",
   "execution_count": null,
   "metadata": {},
   "outputs": [],
   "source": [
    "df['deployment_type'] = df['deployment_type'].replace({'5GNR': '5G NR', '5g NR': '5G NR', '5G': '5G NR', '5N NR': '5G NR'})"
   ]
  },
  {
   "cell_type": "code",
   "execution_count": null,
   "metadata": {},
   "outputs": [],
   "source": [
    "status_counts = df['status'].value_counts()\n",
    "status_counts"
   ]
  },
  {
   "cell_type": "markdown",
   "metadata": {},
   "source": [
    "There doesn't seem to be anything out of the ordinary in 'status'."
   ]
  },
  {
   "cell_type": "markdown",
   "metadata": {},
   "source": [
    "# 6. Visualizations\n",
    "We are going to review the top 10 operators with the most active 5G networks."
   ]
  },
  {
   "cell_type": "code",
   "execution_count": null,
   "metadata": {},
   "outputs": [],
   "source": [
    "top_10_operators = df['operator'].value_counts().head(10)\n",
    "\n",
    "plt.figure(figsize=(10, 8))\n",
    "sns.barplot(x=top_10_operators.index, y=top_10_operators.values)\n",
    "plt.xticks(rotation=45)  \n",
    "\n",
    "plt.title('Top 10 Operators with the Most Active 5G Networks')\n",
    "plt.xlabel('Operator')\n",
    "plt.ylabel('Number of Active 5G Networks')\n",
    "plt.show()"
   ]
  },
  {
   "cell_type": "markdown",
   "metadata": {},
   "source": [
    "As we can see, the company with the most active 5G network corresponds to Free Mobile. Free mobile is a telecommunications company based in France."
   ]
  },
  {
   "cell_type": "markdown",
   "metadata": {},
   "source": [
    "We are going to review the top 10 cities with the most active 5G networks."
   ]
  },
  {
   "cell_type": "code",
   "execution_count": null,
   "metadata": {},
   "outputs": [],
   "source": [
    "top_10_city = df['city_name'].value_counts().head(10)\n",
    "\n",
    "plt.figure(figsize=(10, 8))\n",
    "sns.barplot(x=top_10_city.index, y=top_10_city.values)\n",
    "plt.xticks(rotation=45)  \n",
    "\n",
    "plt.title('Top 10 Cities with the Most Active 5G Networks')\n",
    "plt.xlabel('City')\n",
    "plt.ylabel('Number of Active 5G Networks')\n",
    "plt.show()"
   ]
  },
  {
   "cell_type": "markdown",
   "metadata": {},
   "source": [
    "Within the top, we can see that there are some cities from the United States, France, Canada, India, among others. The only anomaly could be considered the number of networks in the city of Nai Meuang, but I couldn't gather more information."
   ]
  },
  {
   "cell_type": "markdown",
   "metadata": {},
   "source": [
    "The next visualization will represent the 5G networks on the map."
   ]
  },
  {
   "cell_type": "code",
   "execution_count": null,
   "metadata": {},
   "outputs": [],
   "source": [
    "plt.figure(figsize=(10, 8))\n",
    "plt.scatter(df['longitude'], df['latitude'], s=20, c='blue', marker='o', alpha=0.5)\n",
    "\n",
    "plt.title('5G Network Map')\n",
    "plt.xlabel('Longitude')\n",
    "plt.ylabel('Latitude')\n",
    "plt.grid(True)\n",
    "plt.show()"
   ]
  },
  {
   "cell_type": "markdown",
   "metadata": {},
   "source": [
    "We will Visualize the distribution of the 'status' parameter in the data frame."
   ]
  },
  {
   "cell_type": "code",
   "execution_count": null,
   "metadata": {},
   "outputs": [],
   "source": [
    "status_value = df['status'].value_counts()\n",
    "\n",
    "plt.figure(figsize=(10, 6))\n",
    "ax = status_value.plot(kind='bar')\n",
    "\n",
    "total = status_value.sum()\n",
    "for i, v in enumerate(status_value):\n",
    "    percentage = (v / total) * 100\n",
    "    ax.text(i, v + 2000, f'{percentage:.2f}%', ha='center')\n",
    "\n",
    "plt.title('Status Distribution Count')\n",
    "plt.xlabel('Status')\n",
    "plt.ylabel('Count')\n",
    "plt.xticks(rotation=0)  \n",
    "plt.show()"
   ]
  },
  {
   "cell_type": "markdown",
   "metadata": {},
   "source": [
    "Now, we will see in which parts of the map the largest operators are concentrated."
   ]
  },
  {
   "cell_type": "code",
   "execution_count": null,
   "metadata": {},
   "outputs": [],
   "source": [
    "df_top_10 = df[df['operator'].isin(top_10_operators.index)]\n",
    "\n",
    "plt.figure(figsize=(10, 8))\n",
    "\n",
    "plt.scatter(df['longitude'], df['latitude'], s=20, c='blue', marker='o', alpha=0.5, label='Other Operators')\n",
    "\n",
    "plt.scatter(df_top_10['longitude'], df_top_10['latitude'], s=20, c='yellow', marker='o', alpha=0.5, label='Top 10 Operators')\n",
    "\n",
    "plt.title('5G Network Map with Top 10 Operators Highlighted')\n",
    "plt.xlabel('Longitude')\n",
    "plt.ylabel('Latitude')\n",
    "plt.grid(True)\n",
    "plt.legend()\n",
    "plt.show()"
   ]
  },
  {
   "cell_type": "markdown",
   "metadata": {},
   "source": [
    "# 7. Conclusion\n",
    "From the analyzed data, it was observed that the database contained no null values, and no modifications to the data types of any attribute were necessary. Duplicates were observed, accounting for approximately 0.46% of the data. These values were retained with the assumption that in certain densely populated cities, multiple 5G networks are necessary.\n",
    "\n",
    "In the 'deployment type' column, various attributes with the same meaning but different spellings or formats were found, and they were replaced. From the obtained information, it was found that the largest number of networks is held by the French company Free Mobile. It was also found that the majority of networks are located in North America and Europe. Additionally, it was found that the city with the most 5G networks is Nai Mueang, a city in India, information that couldn't be fully verified.\n",
    "\n",
    "Also, the implementation and availability status of 5G networks was also observed.\n",
    "\n",
    "On the other hand, we managed to highlight that 5G networks are now available worldwide."
   ]
  }
 ],
 "metadata": {
  "kernelspec": {
   "display_name": "Python 3",
   "language": "python",
   "name": "python3"
  },
  "language_info": {
   "codemirror_mode": {
    "name": "ipython",
    "version": 3
   },
   "file_extension": ".py",
   "mimetype": "text/x-python",
   "name": "python",
   "nbconvert_exporter": "python",
   "pygments_lexer": "ipython3",
   "version": "3.12.3"
  }
 },
 "nbformat": 4,
 "nbformat_minor": 4
}
